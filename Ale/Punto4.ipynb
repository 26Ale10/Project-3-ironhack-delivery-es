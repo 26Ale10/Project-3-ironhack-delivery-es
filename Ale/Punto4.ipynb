{
 "cells": [
  {
   "cell_type": "code",
   "execution_count": 41,
   "id": "50b6f503-6df3-4bb3-b52e-efa570f46dbe",
   "metadata": {},
   "outputs": [
    {
     "ename": "SyntaxError",
     "evalue": "invalid character '€' (U+20AC) (301448624.py, line 8)",
     "output_type": "error",
     "traceback": [
      "\u001b[0;36m  Cell \u001b[0;32mIn[41], line 8\u001b[0;36m\u001b[0m\n\u001b[0;31m    products_total: monto total en el checkout (€)\u001b[0m\n\u001b[0m                                                ^\u001b[0m\n\u001b[0;31mSyntaxError\u001b[0m\u001b[0;31m:\u001b[0m invalid character '€' (U+20AC)\n"
     ]
    }
   ],
   "source": [
    "order_id\n",
    "activation_time_local: hora local en que se activó el pedido\n",
    "country_code\n",
    "store_address\n",
    "final_status\n",
    "payment_status\n",
    "products: número de productos en el pedido\n",
    "products_total: monto total en el checkout (€)\n",
    "purchase_total_price: monto que el repartidor pagó en la tienda (€)"
   ]
  },
  {
   "cell_type": "code",
   "execution_count": 113,
   "id": "691863c6-1e5d-4d8e-b541-ed19ac5d73ac",
   "metadata": {},
   "outputs": [],
   "source": [
    "from pyspark.sql import SparkSession\n",
    "from pyspark.sql.functions  import col,when,avg,sum as spark_sum, count,asc,desc\n",
    "from pyspark.sql.types import IntegerType, StringType, DateType,DoubleType"
   ]
  },
  {
   "cell_type": "code",
   "execution_count": 3,
   "id": "3792d844-430c-40c6-b3a3-5587f6a9ee14",
   "metadata": {},
   "outputs": [
    {
     "name": "stderr",
     "output_type": "stream",
     "text": [
      "24/06/28 23:18:15 WARN Utils: Your hostname, LAPTOP-C5IN2DM3 resolves to a loopback address: 127.0.1.1; using 10.255.255.254 instead (on interface lo)\n",
      "24/06/28 23:18:15 WARN Utils: Set SPARK_LOCAL_IP if you need to bind to another address\n",
      "Setting default log level to \"WARN\".\n",
      "To adjust logging level use sc.setLogLevel(newLevel). For SparkR, use setLogLevel(newLevel).\n",
      "24/06/28 23:18:16 WARN NativeCodeLoader: Unable to load native-hadoop library for your platform... using builtin-java classes where applicable\n"
     ]
    }
   ],
   "source": [
    "spark = SparkSession.builder.appName(\"FakeSpark\").getOrCreate()"
   ]
  },
  {
   "cell_type": "code",
   "execution_count": 4,
   "id": "d78bef8d-61ed-43ae-8a07-34eedc8c0d7d",
   "metadata": {},
   "outputs": [
    {
     "data": {
      "text/html": [
       "\n",
       "            <div>\n",
       "                <p><b>SparkSession - in-memory</b></p>\n",
       "                \n",
       "        <div>\n",
       "            <p><b>SparkContext</b></p>\n",
       "\n",
       "            <p><a href=\"http://10.255.255.254:4040\">Spark UI</a></p>\n",
       "\n",
       "            <dl>\n",
       "              <dt>Version</dt>\n",
       "                <dd><code>v3.5.1</code></dd>\n",
       "              <dt>Master</dt>\n",
       "                <dd><code>local[*]</code></dd>\n",
       "              <dt>AppName</dt>\n",
       "                <dd><code>FakeSpark</code></dd>\n",
       "            </dl>\n",
       "        </div>\n",
       "        \n",
       "            </div>\n",
       "        "
      ],
      "text/plain": [
       "<pyspark.sql.session.SparkSession at 0x7f76a7d1e380>"
      ]
     },
     "execution_count": 4,
     "metadata": {},
     "output_type": "execute_result"
    }
   ],
   "source": [
    "spark"
   ]
  },
  {
   "cell_type": "code",
   "execution_count": 48,
   "id": "c331a18b-98ea-4568-b547-4dffa089527c",
   "metadata": {},
   "outputs": [],
   "source": [
    "df_fake = spark.read.csv(\"fake_orders_test.csv\",header = False)"
   ]
  },
  {
   "cell_type": "code",
   "execution_count": 49,
   "id": "a01a5ab1-ebb3-43f5-b58a-1af717db25ed",
   "metadata": {},
   "outputs": [
    {
     "name": "stdout",
     "output_type": "stream",
     "text": [
      "+--------+--------------------+---+-----+---------------+----+---+------------------+------------------+\n",
      "|     _c0|                 _c1|_c2|  _c3|            _c4| _c5|_c6|               _c7|               _c8|\n",
      "+--------+--------------------+---+-----+---------------+----+---+------------------+------------------+\n",
      "|33557880|2019-03-10 23:59:...| AR|14200|DeliveredStatus|PAID|  1|              4.54|              8.64|\n",
      "|33512615|2019-03-10 23:58:...| TR|28725|DeliveredStatus|PAID|  1|              3.76|              3.76|\n",
      "|33512451|2019-03-10 23:57:...| TR|28725|DeliveredStatus|PAID|  1|2.8600000000000003|2.8600000000000003|\n",
      "|33530892|2019-03-10 23:57:...| ES|19777| CanceledStatus|PAID|  1|             12.95|                 0|\n",
      "|33557765|2019-03-10 23:57:...| AR|34565|DeliveredStatus|PAID|  2|2.8600000000000003|6.4799999999999995|\n",
      "+--------+--------------------+---+-----+---------------+----+---+------------------+------------------+\n",
      "only showing top 5 rows\n",
      "\n"
     ]
    }
   ],
   "source": [
    "df_fake.show(5)"
   ]
  },
  {
   "cell_type": "code",
   "execution_count": 19,
   "id": "c4d9f5e1-a5f7-42c2-87e1-56a317d6a28f",
   "metadata": {},
   "outputs": [],
   "source": [
    "nuevos_nombres = (\"order_id\", \"activation_time_local\", \"nuevo_nombre3\",\"country_code\",\"store_address\",\"final_status\",\"payment_status\",\"products\",\"products_total\",\"purchase_total_price\")\n",
    "df_fake = df_fake.withColumnRenamed(\"_c0\",\"order_id\")"
   ]
  },
  {
   "cell_type": "code",
   "execution_count": 191,
   "id": "09c6bc83-b174-47ea-ab3f-1fc4b9f51f28",
   "metadata": {},
   "outputs": [],
   "source": [
    "# Supongamos que tienes un DataFrame llamado \"df\" con una columna \"edad\" de tipo string que quieres convertir a integer\n",
    "df_fake = df_fake.withColumn(\"_c8\", col(\"_c8\").cast(DoubleType())) \\\n",
    "                 .withColumn(\"_c7\", col(\"_c7\").cast(DoubleType()))\n"
   ]
  },
  {
   "cell_type": "code",
   "execution_count": 54,
   "id": "20de32af-79fb-41b0-af35-ac8d4378c04c",
   "metadata": {},
   "outputs": [
    {
     "name": "stdout",
     "output_type": "stream",
     "text": [
      "root\n",
      " |-- _c0: string (nullable = true)\n",
      " |-- _c1: string (nullable = true)\n",
      " |-- _c2: string (nullable = true)\n",
      " |-- _c3: string (nullable = true)\n",
      " |-- _c4: string (nullable = true)\n",
      " |-- _c5: string (nullable = true)\n",
      " |-- _c6: string (nullable = true)\n",
      " |-- _c7: double (nullable = true)\n",
      " |-- _c8: double (nullable = true)\n",
      "\n"
     ]
    }
   ],
   "source": [
    "df_fake.printSchema()"
   ]
  },
  {
   "cell_type": "code",
   "execution_count": 53,
   "id": "9d7e8f81-83b8-44ad-8024-3a8e111764a8",
   "metadata": {},
   "outputs": [
    {
     "name": "stdout",
     "output_type": "stream",
     "text": [
      "+--------+--------------------+---+-----+---------------+----+---+------------------+------------------+\n",
      "|     _c0|                 _c1|_c2|  _c3|            _c4| _c5|_c6|               _c7|               _c8|\n",
      "+--------+--------------------+---+-----+---------------+----+---+------------------+------------------+\n",
      "|33557880|2019-03-10 23:59:...| AR|14200|DeliveredStatus|PAID|  1|              4.54|              8.64|\n",
      "|33512615|2019-03-10 23:58:...| TR|28725|DeliveredStatus|PAID|  1|              3.76|              3.76|\n",
      "|33512451|2019-03-10 23:57:...| TR|28725|DeliveredStatus|PAID|  1|2.8600000000000003|2.8600000000000003|\n",
      "|33557765|2019-03-10 23:57:...| AR|34565|DeliveredStatus|PAID|  2|2.8600000000000003|6.4799999999999995|\n",
      "|33512273|2019-03-10 23:57:...| TR|63536|DeliveredStatus|PAID|  4|              1.88|              1.96|\n",
      "+--------+--------------------+---+-----+---------------+----+---+------------------+------------------+\n",
      "only showing top 5 rows\n",
      "\n"
     ]
    }
   ],
   "source": [
    "df_fake_clean = df_fake.filter(df_fake[\"_c4\"] != \"CanceledStatus\")\n",
    "df_fake_clean.show(5)"
   ]
  },
  {
   "cell_type": "markdown",
   "id": "52c1ada1-51ae-400a-b14d-ae0abfbe414f",
   "metadata": {},
   "source": [
    "ejercicio 1"
   ]
  },
  {
   "cell_type": "code",
   "execution_count": 62,
   "id": "73ea8d34-b631-4c07-ad96-346d317d0bb2",
   "metadata": {},
   "outputs": [
    {
     "name": "stdout",
     "output_type": "stream",
     "text": [
      "+--------+--------------------+---+-----+---------------+----+---+------------------+------------------+--------------+-------------------+\n",
      "|     _c0|                 _c1|_c2|  _c3|            _c4| _c5|_c6|               _c7|               _c8|Subautorizados|   Subautorizadosv2|\n",
      "+--------+--------------------+---+-----+---------------+----+---+------------------+------------------+--------------+-------------------+\n",
      "|33557880|2019-03-10 23:59:...| AR|14200|DeliveredStatus|PAID|  1|              4.54|              8.64|             1| 4.1000000000000005|\n",
      "|33512615|2019-03-10 23:58:...| TR|28725|DeliveredStatus|PAID|  1|              3.76|              3.76|             1|                0.0|\n",
      "|33512451|2019-03-10 23:57:...| TR|28725|DeliveredStatus|PAID|  1|2.8600000000000003|2.8600000000000003|             1|                0.0|\n",
      "|33557765|2019-03-10 23:57:...| AR|34565|DeliveredStatus|PAID|  2|2.8600000000000003|6.4799999999999995|             1|  3.619999999999999|\n",
      "|33512273|2019-03-10 23:57:...| TR|63536|DeliveredStatus|PAID|  4|              1.88|              1.96|             1|0.08000000000000007|\n",
      "+--------+--------------------+---+-----+---------------+----+---+------------------+------------------+--------------+-------------------+\n",
      "only showing top 5 rows\n",
      "\n"
     ]
    }
   ],
   "source": [
    "df_fake_clean = df_fake_clean.withColumn(\"Subautorizados\", when ( col(\"_c8\") >= col(\"_c7\"),1).otherwise(0))\n",
    "df_fake_clean = df_fake_clean.withColumn(\"Subautorizadosv2\", col(\"_c8\") - col(\"_c7\"))\n",
    "df_fake_clean.show(5)"
   ]
  },
  {
   "cell_type": "code",
   "execution_count": 68,
   "id": "9d5787d7-d2c9-466c-8723-457a8f80dd2b",
   "metadata": {},
   "outputs": [
    {
     "name": "stdout",
     "output_type": "stream",
     "text": [
      "El % de pedidos Subautorizados es de: 86.62%\n",
      "El % de pedidos Subautorizados es de: 86.62%\n"
     ]
    }
   ],
   "source": [
    "resultado1 = df_fake_clean.agg(((\n",
    "    spark_sum(\"Subautorizados\")/count(\"Subautorizados\"))* 100).alias(\"porcentaje\")).collect()[0][\"porcentaje\"]\n",
    "\n",
    "print(f\"El % de pedidos Subautorizados es de: {resultado1:.2f}%\")\n",
    "\n",
    "a = df_fake_clean.filter(col(\"Subautorizados\")==1).count()\n",
    "b = df_fake_clean.select(col(\"Subautorizados\")).count()\n",
    "resultado1v2 = (a/b)*100\n",
    "print(f\"El % de pedidos Subautorizados es de: {resultado1v2:.2f}%\")"
   ]
  },
  {
   "cell_type": "code",
   "execution_count": 73,
   "id": "f54236dd-43a2-47bd-9b09-84c1681f72dd",
   "metadata": {},
   "outputs": [
    {
     "name": "stdout",
     "output_type": "stream",
     "text": [
      "El % de pedidos Subautorizados es de: 86.62%\n"
     ]
    }
   ],
   "source": [
    "a = df_fake_clean.filter(col(\"Subautorizadosv2\")>=0).count()\n",
    "b = df_fake_clean.select(col(\"Subautorizadosv2\")).count()\n",
    "resultado1v2 = (a/b)*100\n",
    "print(f\"El % de pedidos Subautorizados es de: {resultado1v2:.2f}%\")\n"
   ]
  },
  {
   "cell_type": "markdown",
   "id": "45e44781-6dc3-4cc3-90ae-1af7246d7cda",
   "metadata": {},
   "source": [
    "Ejercicio 2"
   ]
  },
  {
   "cell_type": "code",
   "execution_count": 84,
   "id": "2054696f-b0df-41b0-978c-4f4f369cea79",
   "metadata": {},
   "outputs": [
    {
     "name": "stdout",
     "output_type": "stream",
     "text": [
      "+--------+------------------+------------------+--------------+----------------+\n",
      "|_c0     |_c7               |_c8               |Subautorizados|Subautorizados20|\n",
      "+--------+------------------+------------------+--------------+----------------+\n",
      "|33557880|4.54              |8.64              |1             |1               |\n",
      "|33512615|3.76              |3.76              |1             |0               |\n",
      "|33512451|2.8600000000000003|2.8600000000000003|1             |0               |\n",
      "|33557765|2.8600000000000003|6.4799999999999995|1             |1               |\n",
      "|33512273|1.88              |1.96              |1             |0               |\n",
      "+--------+------------------+------------------+--------------+----------------+\n",
      "only showing top 5 rows\n",
      "\n"
     ]
    }
   ],
   "source": [
    "df_fake_clean = df_fake_clean.withColumn(\"Subautorizados20\", when ( col(\"_c7\")*1.2 <= col(\"_c8\"),1).otherwise(0))\n",
    "df_fake_clean.select(col(\"_c0\"),col(\"_c7\"),col(\"_c8\"),col(\"Subautorizados\"),col(\"Subautorizados20\")).show(5,truncate=False)"
   ]
  },
  {
   "cell_type": "code",
   "execution_count": 85,
   "id": "9915cec7-5fa1-4018-aee1-7cfe170ed792",
   "metadata": {},
   "outputs": [
    {
     "name": "stdout",
     "output_type": "stream",
     "text": [
      "El % de pedidos Subautorizados es de: 34.36%\n"
     ]
    }
   ],
   "source": [
    "a2 = df_fake_clean.filter(col(\"Subautorizados20\")==1).count()\n",
    "b2 = df_fake_clean.select(col(\"Subautorizados20\")).count()\n",
    "resultado2 = (a2/b2)*100\n",
    "print(f\"El % de pedidos Subautorizados es de: {resultado2:.2f}%\")"
   ]
  },
  {
   "cell_type": "markdown",
   "id": "b4ae5cb1-5a2b-45cb-9e25-d9eecea2882f",
   "metadata": {},
   "source": [
    "### Ejercicio 3\n",
    "¿Hay diferencias cuando se dividen por país?"
   ]
  },
  {
   "cell_type": "code",
   "execution_count": 119,
   "id": "36d23e78-b5f0-497f-95e0-57fe93ea4944",
   "metadata": {},
   "outputs": [
    {
     "name": "stdout",
     "output_type": "stream",
     "text": [
      "+---+-----------------+------------------+\n",
      "|_c2|v1               |v20%              |\n",
      "+---+-----------------+------------------+\n",
      "|CI |66.66666666666666|66.66666666666666 |\n",
      "|PR |68.96551724137932|13.793103448275861|\n",
      "|CR |73.38551859099805|21.722113502935418|\n",
      "|FR |76.33860275369709|35.033146353901074|\n",
      "|IT |77.1122570408568 |33.240777469258234|\n",
      "|ES |81.05655897566353|30.7809717629102  |\n",
      "|DO |81.26361655773421|41.17647058823529 |\n",
      "|PT |82.4074074074074 |41.93121693121693 |\n",
      "|RO |84.99496475327291|30.31218529707956 |\n",
      "|GE |88.08510638297872|36.38297872340426 |\n",
      "|PA |88.34080717488789|35.53811659192825 |\n",
      "|KE |88.37209302325581|29.069767441860467|\n",
      "|PE |88.39753818098929|23.72919990882152 |\n",
      "|UA |89.81204031599019|30.400435848542635|\n",
      "|TR |89.81465442577516|34.08972804434436 |\n",
      "|EG |90.94292803970222|38.52357320099256 |\n",
      "|AR |91.12673549305804|38.90174439302243 |\n",
      "|GT |91.42300194931774|22.417153996101362|\n",
      "|EC |91.47045757441137|41.359395824078184|\n",
      "|MA |92.19088937093277|26.102675343456255|\n",
      "+---+-----------------+------------------+\n",
      "only showing top 20 rows\n",
      "\n"
     ]
    }
   ],
   "source": [
    "paises = df_fake_clean.groupBy(\"_c2\").agg(((count(when(col(\"Subautorizados\") == 1, True)) / count(\"Subautorizados\")) * 100).alias(\"v1\"),\n",
    "                                          ((count(when(col(\"Subautorizados20\") == 1, True)) / count(\"Subautorizados20\")) * 100).alias(\"v20%\")).orderBy(asc(\"v1\"))\n",
    "\n",
    "paises.show(truncate=False)"
   ]
  },
  {
   "cell_type": "markdown",
   "id": "905b3ef2-708f-4684-9ad9-25c87ffc7b63",
   "metadata": {},
   "source": [
    "### Ejercicio 4\n",
    "Para el resto de pedidos que quedarían fuera de la autorización incremental, ¿qué valores serían necesarios para capturar el monto restante?"
   ]
  },
  {
   "cell_type": "code",
   "execution_count": 141,
   "id": "5c5b6c63-574a-4ceb-8c70-bba22e284b7a",
   "metadata": {},
   "outputs": [
    {
     "name": "stdout",
     "output_type": "stream",
     "text": [
      "+--------+-------------------+\n",
      "|_c0     |montofaltante20    |\n",
      "+--------+-------------------+\n",
      "|33557880|3.192000000000001  |\n",
      "|33557765|3.047999999999999  |\n",
      "|33523444|7.710000000000001  |\n",
      "|33530379|0.4800000000000004 |\n",
      "|33509944|0.42600000000000016|\n",
      "|33503904|4.674000000000002  |\n",
      "|33521800|1.382              |\n",
      "|33529187|8.312              |\n",
      "|33507405|0.5139999999999993 |\n",
      "|33528930|3.4700000000000006 |\n",
      "|33506464|6.641999999999998  |\n",
      "|33520268|0.7120000000000006 |\n",
      "|33505192|3.926              |\n",
      "|33520143|0.798              |\n",
      "|33520135|2.5460000000000003 |\n",
      "|33519868|11.33              |\n",
      "|33556356|0.28200000000000003|\n",
      "|33556296|2.6040000000000005 |\n",
      "|33503663|2.846              |\n",
      "|33518904|0.41800000000000015|\n",
      "+--------+-------------------+\n",
      "only showing top 20 rows\n",
      "\n"
     ]
    }
   ],
   "source": [
    "df_monto = df_fake_clean.withColumn(\"montofaltante20\",(col(\"_c8\") - col(\"_c7\")*1.2))\n",
    "df_monto = df_monto.filter(col(\"montofaltante20\")>0).select(\"_c0\",\"montofaltante20\")\n",
    "df_monto.show(truncate = False)"
   ]
  },
  {
   "cell_type": "markdown",
   "id": "efe8b8c9-fe59-45f5-aac4-299075957856",
   "metadata": {},
   "source": [
    "### Ejercicio 5\n",
    "¿Qué tiendas son las más problemáticas en términos de pedidos y valor monetario?"
   ]
  },
  {
   "cell_type": "code",
   "execution_count": 208,
   "id": "2161e8c7-2944-4e5a-a1e2-75d55e35f1c7",
   "metadata": {},
   "outputs": [
    {
     "name": "stdout",
     "output_type": "stream",
     "text": [
      "+-----+-------------------+\n",
      "|_c3  |problemas          |\n",
      "+-----+-------------------+\n",
      "|10264|-1781.1300000000003|\n",
      "|28669|-1184.449999999999 |\n",
      "|9855 |-907.03            |\n",
      "|14455|-791.4100000000001 |\n",
      "|28671|-769.2999999999995 |\n",
      "|9854 |-752.7399999999999 |\n",
      "|17327|-737.3299999999999 |\n",
      "|10358|-666.04            |\n",
      "|3063 |-630.0             |\n",
      "|17326|-602.49            |\n",
      "|3066 |-596.3999999999999 |\n",
      "|12513|-548.9             |\n",
      "|3067 |-545.68            |\n",
      "|13090|-519.0             |\n",
      "|17008|-480.6799999999999 |\n",
      "|1463 |-480.43000000000006|\n",
      "|51363|-471.5899999999999 |\n",
      "|17323|-457.90999999999997|\n",
      "|3062 |-414.70000000000005|\n",
      "|28712|-408.2500000000001 |\n",
      "+-----+-------------------+\n",
      "only showing top 20 rows\n",
      "\n"
     ]
    }
   ],
   "source": [
    "df_problema = df_fake_clean.withColumn(\"faltadinero\", when ((col(\"_c7\") - col(\"_c8\")) < 0 ,1).otherwise(0)) \\\n",
    "                                       .withColumn(\"montofaltante\",((col(\"_c7\") - col(\"_c8\"))))\n",
    "df_problema = df_problema.filter(col(\"faltadinero\") ==1)\n",
    "df_problema = df_problema.withColumn(\"montofaltante\", col(\"montofaltante\").cast(DoubleType()))\n",
    "df_problema = df_problema.groupBy(\"_c3\").agg(spark_sum(\"montofaltante\").alias(\"problemas\"))\n",
    "\n",
    "df_problema.orderBy(asc(\"problemas\")).show(truncate = False)"
   ]
  },
  {
   "cell_type": "code",
   "execution_count": null,
   "id": "76dd35ba-6613-47f5-b9e2-fda8445a3c70",
   "metadata": {},
   "outputs": [],
   "source": []
  },
  {
   "cell_type": "code",
   "execution_count": null,
   "id": "26766c5a-7bc2-4b8e-a5cf-cde71219ab26",
   "metadata": {},
   "outputs": [],
   "source": []
  },
  {
   "cell_type": "code",
   "execution_count": 209,
   "id": "4969c1a2-7d05-4cf3-92dd-1fff76d13ad0",
   "metadata": {},
   "outputs": [],
   "source": [
    "spark.stop()"
   ]
  },
  {
   "cell_type": "code",
   "execution_count": 210,
   "id": "d558f553-cedf-458f-9015-aa82597fd7b1",
   "metadata": {},
   "outputs": [
    {
     "ename": "AttributeError",
     "evalue": "'NoneType' object has no attribute 'sc'",
     "output_type": "error",
     "traceback": [
      "\u001b[0;31m---------------------------------------------------------------------------\u001b[0m",
      "\u001b[0;31mAttributeError\u001b[0m                            Traceback (most recent call last)",
      "File \u001b[0;32m~/.local/lib/python3.10/site-packages/IPython/core/formatters.py:347\u001b[0m, in \u001b[0;36mBaseFormatter.__call__\u001b[0;34m(self, obj)\u001b[0m\n\u001b[1;32m    345\u001b[0m     method \u001b[38;5;241m=\u001b[39m get_real_method(obj, \u001b[38;5;28mself\u001b[39m\u001b[38;5;241m.\u001b[39mprint_method)\n\u001b[1;32m    346\u001b[0m     \u001b[38;5;28;01mif\u001b[39;00m method \u001b[38;5;129;01mis\u001b[39;00m \u001b[38;5;129;01mnot\u001b[39;00m \u001b[38;5;28;01mNone\u001b[39;00m:\n\u001b[0;32m--> 347\u001b[0m         \u001b[38;5;28;01mreturn\u001b[39;00m \u001b[43mmethod\u001b[49m\u001b[43m(\u001b[49m\u001b[43m)\u001b[49m\n\u001b[1;32m    348\u001b[0m     \u001b[38;5;28;01mreturn\u001b[39;00m \u001b[38;5;28;01mNone\u001b[39;00m\n\u001b[1;32m    349\u001b[0m \u001b[38;5;28;01melse\u001b[39;00m:\n",
      "File \u001b[0;32m~/.local/lib/python3.10/site-packages/pyspark/sql/session.py:618\u001b[0m, in \u001b[0;36mSparkSession._repr_html_\u001b[0;34m(self)\u001b[0m\n\u001b[1;32m    610\u001b[0m \u001b[38;5;28;01mdef\u001b[39;00m \u001b[38;5;21m_repr_html_\u001b[39m(\u001b[38;5;28mself\u001b[39m) \u001b[38;5;241m-\u001b[39m\u001b[38;5;241m>\u001b[39m \u001b[38;5;28mstr\u001b[39m:\n\u001b[1;32m    611\u001b[0m     \u001b[38;5;28;01mreturn\u001b[39;00m \u001b[38;5;124m\"\"\"\u001b[39m\n\u001b[1;32m    612\u001b[0m \u001b[38;5;124m        <div>\u001b[39m\n\u001b[1;32m    613\u001b[0m \u001b[38;5;124m            <p><b>SparkSession - \u001b[39m\u001b[38;5;132;01m{catalogImplementation}\u001b[39;00m\u001b[38;5;124m</b></p>\u001b[39m\n\u001b[1;32m    614\u001b[0m \u001b[38;5;124m            \u001b[39m\u001b[38;5;132;01m{sc_HTML}\u001b[39;00m\n\u001b[1;32m    615\u001b[0m \u001b[38;5;124m        </div>\u001b[39m\n\u001b[1;32m    616\u001b[0m \u001b[38;5;124m    \u001b[39m\u001b[38;5;124m\"\"\"\u001b[39m\u001b[38;5;241m.\u001b[39mformat(\n\u001b[1;32m    617\u001b[0m         catalogImplementation\u001b[38;5;241m=\u001b[39m\u001b[38;5;28mself\u001b[39m\u001b[38;5;241m.\u001b[39mconf\u001b[38;5;241m.\u001b[39mget(\u001b[38;5;124m\"\u001b[39m\u001b[38;5;124mspark.sql.catalogImplementation\u001b[39m\u001b[38;5;124m\"\u001b[39m),\n\u001b[0;32m--> 618\u001b[0m         sc_HTML\u001b[38;5;241m=\u001b[39m\u001b[38;5;28;43mself\u001b[39;49m\u001b[38;5;241;43m.\u001b[39;49m\u001b[43msparkContext\u001b[49m\u001b[38;5;241;43m.\u001b[39;49m\u001b[43m_repr_html_\u001b[49m\u001b[43m(\u001b[49m\u001b[43m)\u001b[49m,\n\u001b[1;32m    619\u001b[0m     )\n",
      "File \u001b[0;32m~/.local/lib/python3.10/site-packages/pyspark/context.py:397\u001b[0m, in \u001b[0;36mSparkContext._repr_html_\u001b[0;34m(self)\u001b[0m\n\u001b[1;32m    396\u001b[0m \u001b[38;5;28;01mdef\u001b[39;00m \u001b[38;5;21m_repr_html_\u001b[39m(\u001b[38;5;28mself\u001b[39m) \u001b[38;5;241m-\u001b[39m\u001b[38;5;241m>\u001b[39m \u001b[38;5;28mstr\u001b[39m:\n\u001b[0;32m--> 397\u001b[0m     \u001b[38;5;28;01mreturn\u001b[39;00m \u001b[38;5;124;43m\"\"\"\u001b[39;49m\n\u001b[1;32m    398\u001b[0m \u001b[38;5;124;43m    <div>\u001b[39;49m\n\u001b[1;32m    399\u001b[0m \u001b[38;5;124;43m        <p><b>SparkContext</b></p>\u001b[39;49m\n\u001b[1;32m    400\u001b[0m \n\u001b[1;32m    401\u001b[0m \u001b[38;5;124;43m        <p><a href=\u001b[39;49m\u001b[38;5;124;43m\"\u001b[39;49m\u001b[38;5;132;43;01m{sc.uiWebUrl}\u001b[39;49;00m\u001b[38;5;124;43m\"\u001b[39;49m\u001b[38;5;124;43m>Spark UI</a></p>\u001b[39;49m\n\u001b[1;32m    402\u001b[0m \n\u001b[1;32m    403\u001b[0m \u001b[38;5;124;43m        <dl>\u001b[39;49m\n\u001b[1;32m    404\u001b[0m \u001b[38;5;124;43m          <dt>Version</dt>\u001b[39;49m\n\u001b[1;32m    405\u001b[0m \u001b[38;5;124;43m            <dd><code>v\u001b[39;49m\u001b[38;5;132;43;01m{sc.version}\u001b[39;49;00m\u001b[38;5;124;43m</code></dd>\u001b[39;49m\n\u001b[1;32m    406\u001b[0m \u001b[38;5;124;43m          <dt>Master</dt>\u001b[39;49m\n\u001b[1;32m    407\u001b[0m \u001b[38;5;124;43m            <dd><code>\u001b[39;49m\u001b[38;5;132;43;01m{sc.master}\u001b[39;49;00m\u001b[38;5;124;43m</code></dd>\u001b[39;49m\n\u001b[1;32m    408\u001b[0m \u001b[38;5;124;43m          <dt>AppName</dt>\u001b[39;49m\n\u001b[1;32m    409\u001b[0m \u001b[38;5;124;43m            <dd><code>\u001b[39;49m\u001b[38;5;132;43;01m{sc.appName}\u001b[39;49;00m\u001b[38;5;124;43m</code></dd>\u001b[39;49m\n\u001b[1;32m    410\u001b[0m \u001b[38;5;124;43m        </dl>\u001b[39;49m\n\u001b[1;32m    411\u001b[0m \u001b[38;5;124;43m    </div>\u001b[39;49m\n\u001b[1;32m    412\u001b[0m \u001b[38;5;124;43m    \u001b[39;49m\u001b[38;5;124;43m\"\"\"\u001b[39;49m\u001b[38;5;241;43m.\u001b[39;49m\u001b[43mformat\u001b[49m\u001b[43m(\u001b[49m\n\u001b[1;32m    413\u001b[0m \u001b[43m        \u001b[49m\u001b[43msc\u001b[49m\u001b[38;5;241;43m=\u001b[39;49m\u001b[38;5;28;43mself\u001b[39;49m\n\u001b[1;32m    414\u001b[0m \u001b[43m    \u001b[49m\u001b[43m)\u001b[49m\n",
      "File \u001b[0;32m~/.local/lib/python3.10/site-packages/pyspark/context.py:603\u001b[0m, in \u001b[0;36mSparkContext.uiWebUrl\u001b[0;34m(self)\u001b[0m\n\u001b[1;32m    587\u001b[0m \u001b[38;5;129m@property\u001b[39m\n\u001b[1;32m    588\u001b[0m \u001b[38;5;28;01mdef\u001b[39;00m \u001b[38;5;21muiWebUrl\u001b[39m(\u001b[38;5;28mself\u001b[39m) \u001b[38;5;241m-\u001b[39m\u001b[38;5;241m>\u001b[39m Optional[\u001b[38;5;28mstr\u001b[39m]:\n\u001b[1;32m    589\u001b[0m \u001b[38;5;250m    \u001b[39m\u001b[38;5;124;03m\"\"\"Return the URL of the SparkUI instance started by this :class:`SparkContext`\u001b[39;00m\n\u001b[1;32m    590\u001b[0m \n\u001b[1;32m    591\u001b[0m \u001b[38;5;124;03m    .. versionadded:: 2.1.0\u001b[39;00m\n\u001b[0;32m   (...)\u001b[0m\n\u001b[1;32m    601\u001b[0m \u001b[38;5;124;03m    'http://...'\u001b[39;00m\n\u001b[1;32m    602\u001b[0m \u001b[38;5;124;03m    \"\"\"\u001b[39;00m\n\u001b[0;32m--> 603\u001b[0m     jurl \u001b[38;5;241m=\u001b[39m \u001b[38;5;28;43mself\u001b[39;49m\u001b[38;5;241;43m.\u001b[39;49m\u001b[43m_jsc\u001b[49m\u001b[38;5;241;43m.\u001b[39;49m\u001b[43msc\u001b[49m()\u001b[38;5;241m.\u001b[39muiWebUrl()\n\u001b[1;32m    604\u001b[0m     \u001b[38;5;28;01mreturn\u001b[39;00m jurl\u001b[38;5;241m.\u001b[39mget() \u001b[38;5;28;01mif\u001b[39;00m jurl\u001b[38;5;241m.\u001b[39mnonEmpty() \u001b[38;5;28;01melse\u001b[39;00m \u001b[38;5;28;01mNone\u001b[39;00m\n",
      "\u001b[0;31mAttributeError\u001b[0m: 'NoneType' object has no attribute 'sc'"
     ]
    },
    {
     "data": {
      "text/plain": [
       "<pyspark.sql.session.SparkSession at 0x7f76a7d1e380>"
      ]
     },
     "execution_count": 210,
     "metadata": {},
     "output_type": "execute_result"
    }
   ],
   "source": [
    "spark"
   ]
  },
  {
   "cell_type": "code",
   "execution_count": null,
   "id": "6d3a8186-4ed8-4184-aaf2-e83423e46132",
   "metadata": {},
   "outputs": [],
   "source": []
  }
 ],
 "metadata": {
  "kernelspec": {
   "display_name": "Python 3 (ipykernel)",
   "language": "python",
   "name": "python3"
  },
  "language_info": {
   "codemirror_mode": {
    "name": "ipython",
    "version": 3
   },
   "file_extension": ".py",
   "mimetype": "text/x-python",
   "name": "python",
   "nbconvert_exporter": "python",
   "pygments_lexer": "ipython3",
   "version": "3.10.12"
  }
 },
 "nbformat": 4,
 "nbformat_minor": 5
}
