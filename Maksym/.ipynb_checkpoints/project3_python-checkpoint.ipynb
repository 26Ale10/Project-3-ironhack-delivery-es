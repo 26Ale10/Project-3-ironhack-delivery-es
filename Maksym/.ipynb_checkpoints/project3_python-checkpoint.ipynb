{
 "cells": [
  {
   "cell_type": "code",
   "execution_count": 92,
   "id": "97b2bb7f-ebd4-4b2d-91d8-5ae406ea367e",
   "metadata": {},
   "outputs": [],
   "source": [
    "import pyspark\n",
    "from pyspark.sql import SparkSession\n",
    "from pyspark.sql.functions import col, when, count\n"
   ]
  },
  {
   "cell_type": "code",
   "execution_count": 2,
   "id": "e5e12751-c9d7-43db-9724-f17889b3efc3",
   "metadata": {},
   "outputs": [
    {
     "name": "stdout",
     "output_type": "stream",
     "text": [
      "/home/biomedmax/github\n"
     ]
    }
   ],
   "source": [
    "!pwd"
   ]
  },
  {
   "cell_type": "code",
   "execution_count": 93,
   "id": "b5d6e781-87e5-4acf-ac54-23c6f605255f",
   "metadata": {},
   "outputs": [
    {
     "name": "stdout",
     "output_type": "stream",
     "text": [
      "+--------+-------------------+---+-----+---------------+----+---+------------------+------------------+\n",
      "|     _c0|                _c1|_c2|  _c3|            _c4| _c5|_c6|               _c7|               _c8|\n",
      "+--------+-------------------+---+-----+---------------+----+---+------------------+------------------+\n",
      "|33557880|2019-03-10 23:59:59| AR|14200|DeliveredStatus|PAID|  1|              4.54|              8.64|\n",
      "|33512615|2019-03-10 23:58:32| TR|28725|DeliveredStatus|PAID|  1|              3.76|              3.76|\n",
      "|33512451|2019-03-10 23:57:56| TR|28725|DeliveredStatus|PAID|  1|2.8600000000000003|2.8600000000000003|\n",
      "|33530892|2019-03-10 23:57:33| ES|19777| CanceledStatus|PAID|  1|             12.95|               0.0|\n",
      "|33557765|2019-03-10 23:57:21| AR|34565|DeliveredStatus|PAID|  2|2.8600000000000003|6.4799999999999995|\n",
      "|33512273|2019-03-10 23:57:13| TR|63536|DeliveredStatus|PAID|  4|              1.88|              1.96|\n",
      "|33524023|2019-03-10 23:57:06| EG|73739|DeliveredStatus|PAID|  3|             10.19|              1.61|\n",
      "|33511759|2019-03-10 23:55:21| TR|47493|DeliveredStatus|PAID|  2|              2.37|              2.45|\n",
      "|33511416|2019-03-10 23:54:06| TR|33400|DeliveredStatus|PAID|  1|              3.93|              3.93|\n",
      "|33557565|2019-03-10 23:53:55| AR|27750| CanceledStatus|PAID|  1|              2.59|               0.0|\n",
      "|33523444|2019-03-10 23:53:38| RO|72549|DeliveredStatus|PAID|  2|              2.05|             10.17|\n",
      "|33557508|2019-03-10 23:52:55| AR|13040| CanceledStatus|PAID|  2|5.7299999999999995|               0.0|\n",
      "|33530379|2019-03-10 23:52:20| FR| 4444|DeliveredStatus|PAID|  1|               8.1|              10.2|\n",
      "|33510806|2019-03-10 23:51:56| TR|30435|DeliveredStatus|PAID|  1|              4.42|              4.42|\n",
      "|33560469|2019-03-10 23:51:54| PA|18149|DeliveredStatus|PAID|  1|              5.71|              5.33|\n",
      "|33560467|2019-03-10 23:51:46| PE|51257| CanceledStatus|PAID|  1|              5.38|               0.0|\n",
      "|33510556|2019-03-10 23:51:04| TR|66608|DeliveredStatus|PAID|  1| 9.809999999999999| 9.809999999999999|\n",
      "|33557387|2019-03-10 23:50:09| AR|52671|DeliveredStatus|PAID|  1|               4.1|               4.1|\n",
      "|33530108|2019-03-10 23:49:29| FR| 4444| CanceledStatus|PAID|  2|              13.5|               0.0|\n",
      "|33557344|2019-03-10 23:49:14| AR|27741|DeliveredStatus|PAID|  1|6.4799999999999995|              6.81|\n",
      "+--------+-------------------+---+-----+---------------+----+---+------------------+------------------+\n",
      "only showing top 20 rows\n",
      "\n"
     ]
    }
   ],
   "source": [
    "# Initialize a Spark session\n",
    "spark = SparkSession.builder \\\n",
    "    .appName(\"CSV to DataFrame\") \\\n",
    "    .getOrCreate()\n",
    "\n",
    "# Define the path to your CSV file\n",
    "csv_file_path = \"fake_orders_test.csv\"\n",
    "\n",
    "#  Read the CSV file into a DataFrame\n",
    "df = spark.read.csv(csv_file_path, header=False, inferSchema=True)\n",
    "\n",
    "# Show the DataFrame\n",
    "df.show()\n"
   ]
  },
  {
   "cell_type": "code",
   "execution_count": 94,
   "id": "6a800dce-4ff1-41b8-8df9-20f9d96ebc42",
   "metadata": {},
   "outputs": [],
   "source": [
    "### Quitar los cancelados ####\n",
    "df = df.filter(df[\"_c4\"] != \"CanceledStatus\")\n"
   ]
  },
  {
   "cell_type": "code",
   "execution_count": 95,
   "id": "26833ed9-490f-4487-acdc-c90b6b38c5a9",
   "metadata": {},
   "outputs": [
    {
     "name": "stdout",
     "output_type": "stream",
     "text": [
      "0.07977292544014247\n"
     ]
    }
   ],
   "source": [
    "### EJERCICIO 1 #####\n",
    "total_count = df.count()\n",
    "zero_count = df.filter(col(\"_c8\") == 0).count()\n",
    "percentage = zero_count/total_count\n",
    "print(percentage*100)"
   ]
  },
  {
   "cell_type": "code",
   "execution_count": 96,
   "id": "b21416a5-6799-4b60-a2ec-79fd691d2307",
   "metadata": {},
   "outputs": [],
   "source": [
    "df = df.withColumn(\"difference\", col(\"_c7\") - col(\"_c8\"))\n"
   ]
  },
  {
   "cell_type": "code",
   "execution_count": 101,
   "id": "16be8b72-e7ec-409b-bf95-b5782fcb7af2",
   "metadata": {},
   "outputs": [
    {
     "name": "stdout",
     "output_type": "stream",
     "text": [
      "63.898113277554124\n"
     ]
    }
   ],
   "source": [
    "zero_count = df.filter(col(\"difference\") < 0).count()\n",
    "percentage = zero_count/total_count\n",
    "print(percentage*100)"
   ]
  },
  {
   "cell_type": "code",
   "execution_count": 102,
   "id": "da1e8017-18a9-41cf-bd5c-06ef0e568c89",
   "metadata": {},
   "outputs": [
    {
     "name": "stdout",
     "output_type": "stream",
     "text": [
      "+--------+-------------------+---+-----+---------------+----+---+------------------+------------------+--------------------+\n",
      "|     _c0|                _c1|_c2|  _c3|            _c4| _c5|_c6|               _c7|               _c8|          difference|\n",
      "+--------+-------------------+---+-----+---------------+----+---+------------------+------------------+--------------------+\n",
      "|33557880|2019-03-10 23:59:59| AR|14200|DeliveredStatus|PAID|  1|              4.54|              8.64| -4.1000000000000005|\n",
      "|33512615|2019-03-10 23:58:32| TR|28725|DeliveredStatus|PAID|  1|              3.76|              3.76|                 0.0|\n",
      "|33512451|2019-03-10 23:57:56| TR|28725|DeliveredStatus|PAID|  1|2.8600000000000003|2.8600000000000003|                 0.0|\n",
      "|33557765|2019-03-10 23:57:21| AR|34565|DeliveredStatus|PAID|  2|2.8600000000000003|6.4799999999999995|  -3.619999999999999|\n",
      "|33512273|2019-03-10 23:57:13| TR|63536|DeliveredStatus|PAID|  4|              1.88|              1.96|-0.08000000000000007|\n",
      "|33524023|2019-03-10 23:57:06| EG|73739|DeliveredStatus|PAID|  3|             10.19|              1.61|                8.58|\n",
      "|33511759|2019-03-10 23:55:21| TR|47493|DeliveredStatus|PAID|  2|              2.37|              2.45|-0.08000000000000007|\n",
      "|33511416|2019-03-10 23:54:06| TR|33400|DeliveredStatus|PAID|  1|              3.93|              3.93|                 0.0|\n",
      "|33523444|2019-03-10 23:53:38| RO|72549|DeliveredStatus|PAID|  2|              2.05|             10.17|  -8.120000000000001|\n",
      "|33530379|2019-03-10 23:52:20| FR| 4444|DeliveredStatus|PAID|  1|               8.1|              10.2| -2.0999999999999996|\n",
      "|33510806|2019-03-10 23:51:56| TR|30435|DeliveredStatus|PAID|  1|              4.42|              4.42|                 0.0|\n",
      "|33560469|2019-03-10 23:51:54| PA|18149|DeliveredStatus|PAID|  1|              5.71|              5.33|  0.3799999999999999|\n",
      "|33510556|2019-03-10 23:51:04| TR|66608|DeliveredStatus|PAID|  1| 9.809999999999999| 9.809999999999999|                 0.0|\n",
      "|33557387|2019-03-10 23:50:09| AR|52671|DeliveredStatus|PAID|  1|               4.1|               4.1|                 0.0|\n",
      "|33557344|2019-03-10 23:49:14| AR|27741|DeliveredStatus|PAID|  1|6.4799999999999995|              6.81|-0.33000000000000007|\n",
      "|33509944|2019-03-10 23:48:55| TR|44528|DeliveredStatus|PAID|  2|              4.42|5.7299999999999995| -1.3099999999999996|\n",
      "|33557248|2019-03-10 23:47:20| AR|52671|DeliveredStatus|PAID|  2|               4.1|               4.1|                 0.0|\n",
      "|33522592|2019-03-10 23:47:19| EG|69064|DeliveredStatus|PAID|  2|0.9199999999999999|              1.02|-0.10000000000000009|\n",
      "|33509377|2019-03-10 23:46:51| TR|44099|DeliveredStatus|PAID|  3|              5.89|              6.38| -0.4900000000000002|\n",
      "|33508801|2019-03-10 23:44:52| TR|52339|DeliveredStatus|PAID|  3|              4.99|              4.99|                 0.0|\n",
      "+--------+-------------------+---+-----+---------------+----+---+------------------+------------------+--------------------+\n",
      "only showing top 20 rows\n",
      "\n"
     ]
    }
   ],
   "source": [
    "df.show()"
   ]
  },
  {
   "cell_type": "code",
   "execution_count": 103,
   "id": "11353d73-ea9f-4311-8bc5-7d379f0e8c6e",
   "metadata": {},
   "outputs": [
    {
     "name": "stdout",
     "output_type": "stream",
     "text": [
      "95.69226202623231\n"
     ]
    }
   ],
   "source": [
    "### ¿Qué porcentaje de pedidos se autorizarían correctamente con una autorización incremental (+20%) sobre el monto en el checkout? \"\"\n",
    "df = df.withColumn(\"difference_x1_2\", col(\"_c7\") - col(\"_c8\")*1.2)\n",
    "zero_count = df.filter(col(\"difference_x1_2\") < 0).count()\n",
    "percentage = zero_count/total_count\n",
    "print(percentage*100)"
   ]
  },
  {
   "cell_type": "code",
   "execution_count": 11,
   "id": "5c443ab5-1cea-4eaa-b3d3-988114f7baef",
   "metadata": {},
   "outputs": [
    {
     "name": "stdout",
     "output_type": "stream",
     "text": [
      "+---+-------------------+\n",
      "|_c2|negative_percentage|\n",
      "+---+-------------------+\n",
      "| CI|  66.66666666666666|\n",
      "| UA|  54.07245982021247|\n",
      "| RO|  50.55387713997986|\n",
      "| PT|  68.25396825396825|\n",
      "| CL|  99.89528795811519|\n",
      "| GT|  36.25730994152047|\n",
      "| ES|  67.15000423980328|\n",
      "| EC|  70.94624611283874|\n",
      "| TR| 55.413130088342285|\n",
      "| CR|  48.23874755381605|\n",
      "| FR|   70.1682814890362|\n",
      "| PA|  66.81614349775785|\n",
      "| IT|  61.20587068623562|\n",
      "| GE|  59.57446808510638|\n",
      "| PE|  60.29177114201049|\n",
      "| DO|  68.40958605664488|\n",
      "| EG|  70.22332506203473|\n",
      "| KE| 61.627906976744185|\n",
      "| MA|  47.14389009399855|\n",
      "| UY|  56.64335664335665|\n",
      "+---+-------------------+\n",
      "only showing top 20 rows\n",
      "\n"
     ]
    }
   ],
   "source": [
    "######## EJERCICIO 3 ############ \n",
    "negative_percentage = df.groupBy(\"_c2\").agg((count(when(col(\"difference\") < 0, True)) / count(\"*\") * 100).alias(\"negative_percentage\"))\n",
    "negative_percentage_desc = negative_percentage.orderBy(col(\"negative_percentage\").desc())\n",
    "negative_percentage.show()"
   ]
  },
  {
   "cell_type": "code",
   "execution_count": 12,
   "id": "1a585fe5-711e-4d1b-8a04-a2f6993fc8ce",
   "metadata": {},
   "outputs": [
    {
     "name": "stdout",
     "output_type": "stream",
     "text": [
      "+-------------------+--------------------+\n",
      "|                _c1|     difference_x1_2|\n",
      "+-------------------+--------------------+\n",
      "|2019-03-10 23:59:59|              -5.828|\n",
      "|2019-03-10 23:58:32| -0.7519999999999998|\n",
      "|2019-03-10 23:57:56| -0.5720000000000001|\n",
      "|2019-03-10 23:57:21|  -4.915999999999999|\n",
      "|2019-03-10 23:57:13|              -0.472|\n",
      "|2019-03-10 23:55:21| -0.5699999999999998|\n",
      "|2019-03-10 23:54:06|              -0.786|\n",
      "|2019-03-10 23:53:38|             -10.154|\n",
      "|2019-03-10 23:52:20|  -4.139999999999999|\n",
      "|2019-03-10 23:51:56| -0.8839999999999995|\n",
      "|2019-03-10 23:51:54| -0.6859999999999999|\n",
      "|2019-03-10 23:51:04| -1.9619999999999997|\n",
      "|2019-03-10 23:50:09| -0.8199999999999994|\n",
      "|2019-03-10 23:49:14| -1.6919999999999993|\n",
      "|2019-03-10 23:48:55| -2.4559999999999995|\n",
      "|2019-03-10 23:47:20| -0.8199999999999994|\n",
      "|2019-03-10 23:47:19|-0.30400000000000005|\n",
      "|2019-03-10 23:46:51|              -1.766|\n",
      "|2019-03-10 23:44:52| -0.9980000000000002|\n",
      "|2019-03-10 23:44:13|              -0.782|\n",
      "+-------------------+--------------------+\n",
      "only showing top 20 rows\n",
      "\n"
     ]
    }
   ],
   "source": [
    "########### EJERCICIO 4 ###########\n",
    "df.filter(col(\"difference_x1_2\") < 0).select(\"_c1\", \"difference_x1_2\").show()"
   ]
  },
  {
   "cell_type": "code",
   "execution_count": 13,
   "id": "4aaf37ae-6f90-45db-a18a-38bdba37f689",
   "metadata": {},
   "outputs": [
    {
     "name": "stdout",
     "output_type": "stream",
     "text": [
      "+--------+-------------------+---+-----+---------------+----+---+------------------+------------------+--------------------+--------------------+\n",
      "|     _c0|                _c1|_c2|  _c3|            _c4| _c5|_c6|               _c7|               _c8|          difference|     difference_x1_2|\n",
      "+--------+-------------------+---+-----+---------------+----+---+------------------+------------------+--------------------+--------------------+\n",
      "|33557880|2019-03-10 23:59:59| AR|14200|DeliveredStatus|PAID|  1|              4.54|              8.64| -4.1000000000000005|              -5.828|\n",
      "|33512615|2019-03-10 23:58:32| TR|28725|DeliveredStatus|PAID|  1|              3.76|              3.76|                 0.0| -0.7519999999999998|\n",
      "|33512451|2019-03-10 23:57:56| TR|28725|DeliveredStatus|PAID|  1|2.8600000000000003|2.8600000000000003|                 0.0| -0.5720000000000001|\n",
      "|33557765|2019-03-10 23:57:21| AR|34565|DeliveredStatus|PAID|  2|2.8600000000000003|6.4799999999999995|  -3.619999999999999|  -4.915999999999999|\n",
      "|33512273|2019-03-10 23:57:13| TR|63536|DeliveredStatus|PAID|  4|              1.88|              1.96|-0.08000000000000007|              -0.472|\n",
      "|33524023|2019-03-10 23:57:06| EG|73739|DeliveredStatus|PAID|  3|             10.19|              1.61|                8.58|               8.258|\n",
      "|33511759|2019-03-10 23:55:21| TR|47493|DeliveredStatus|PAID|  2|              2.37|              2.45|-0.08000000000000007| -0.5699999999999998|\n",
      "|33511416|2019-03-10 23:54:06| TR|33400|DeliveredStatus|PAID|  1|              3.93|              3.93|                 0.0|              -0.786|\n",
      "|33523444|2019-03-10 23:53:38| RO|72549|DeliveredStatus|PAID|  2|              2.05|             10.17|  -8.120000000000001|             -10.154|\n",
      "|33530379|2019-03-10 23:52:20| FR| 4444|DeliveredStatus|PAID|  1|               8.1|              10.2| -2.0999999999999996|  -4.139999999999999|\n",
      "|33510806|2019-03-10 23:51:56| TR|30435|DeliveredStatus|PAID|  1|              4.42|              4.42|                 0.0| -0.8839999999999995|\n",
      "|33560469|2019-03-10 23:51:54| PA|18149|DeliveredStatus|PAID|  1|              5.71|              5.33|  0.3799999999999999| -0.6859999999999999|\n",
      "|33510556|2019-03-10 23:51:04| TR|66608|DeliveredStatus|PAID|  1| 9.809999999999999| 9.809999999999999|                 0.0| -1.9619999999999997|\n",
      "|33557387|2019-03-10 23:50:09| AR|52671|DeliveredStatus|PAID|  1|               4.1|               4.1|                 0.0| -0.8199999999999994|\n",
      "|33557344|2019-03-10 23:49:14| AR|27741|DeliveredStatus|PAID|  1|6.4799999999999995|              6.81|-0.33000000000000007| -1.6919999999999993|\n",
      "|33509944|2019-03-10 23:48:55| TR|44528|DeliveredStatus|PAID|  2|              4.42|5.7299999999999995| -1.3099999999999996| -2.4559999999999995|\n",
      "|33557248|2019-03-10 23:47:20| AR|52671|DeliveredStatus|PAID|  2|               4.1|               4.1|                 0.0| -0.8199999999999994|\n",
      "|33522592|2019-03-10 23:47:19| EG|69064|DeliveredStatus|PAID|  2|0.9199999999999999|              1.02|-0.10000000000000009|-0.30400000000000005|\n",
      "|33509377|2019-03-10 23:46:51| TR|44099|DeliveredStatus|PAID|  3|              5.89|              6.38| -0.4900000000000002|              -1.766|\n",
      "|33508801|2019-03-10 23:44:52| TR|52339|DeliveredStatus|PAID|  3|              4.99|              4.99|                 0.0| -0.9980000000000002|\n",
      "+--------+-------------------+---+-----+---------------+----+---+------------------+------------------+--------------------+--------------------+\n",
      "only showing top 20 rows\n",
      "\n"
     ]
    }
   ],
   "source": [
    "df.show()"
   ]
  },
  {
   "cell_type": "code",
   "execution_count": 14,
   "id": "b2adce2e-4e0e-4b78-a6d1-a155df9c50c4",
   "metadata": {},
   "outputs": [
    {
     "name": "stdout",
     "output_type": "stream",
     "text": [
      "+---+-------------------+\n",
      "|_c2|   sum_of_negatives|\n",
      "+---+-------------------+\n",
      "| ES| -61042.32199999992|\n",
      "| AR|-38316.520000000004|\n",
      "| PE|-18806.495999999977|\n",
      "| CL| -17878.94800000002|\n",
      "| IT|-17377.369999999995|\n",
      "| UA|-15020.082000000017|\n",
      "| FR| -14372.25999999999|\n",
      "| TR|-11725.075999999968|\n",
      "| EC| -10718.94799999999|\n",
      "| RO|-10394.005999999994|\n",
      "| PA| -5648.392000000003|\n",
      "| MA| -5392.397999999998|\n",
      "| PT|-3804.3399999999997|\n",
      "| EG|-3624.0380000000023|\n",
      "| CR|-3552.4560000000015|\n",
      "| GT| -2280.283999999999|\n",
      "| GE|-1526.0719999999994|\n",
      "| DO|-1513.9400000000005|\n",
      "| UY| -702.8320000000001|\n",
      "| KE|-282.46799999999996|\n",
      "+---+-------------------+\n",
      "only showing top 20 rows\n",
      "\n"
     ]
    }
   ],
   "source": [
    "########### EJERCICIO 5 ###########\n",
    "from pyspark.sql import SparkSession\n",
    "from pyspark.sql.functions import col, sum\n",
    "\n",
    "\n",
    "# Example DataFrame creation (replace with your actual data loading)\n",
    "\n",
    "df = df.select([\"_c2\",\"_c3\", \"difference_x1_2\"])\n",
    "\n",
    "# Filter DataFrame and calculate sum\n",
    "filtered_sum_grouped = df.filter(col(\"difference_x1_2\") < 0) \\\n",
    "                         .groupBy(\"_c2\") \\\n",
    "                         .agg(sum(col(\"difference_x1_2\")).alias(\"sum_of_negatives\"))\n",
    "\n",
    "filtered_sum_grouped.orderBy(\"sum_of_negatives\").show()\n",
    "\n",
    "#Answer is ES, CL, AR are the three most problematic"
   ]
  },
  {
   "cell_type": "code",
   "execution_count": 15,
   "id": "52605ced-690b-4af6-92d3-9dd1f0a7b4aa",
   "metadata": {},
   "outputs": [
    {
     "name": "stdout",
     "output_type": "stream",
     "text": [
      "+---+-----+--------------------+\n",
      "|_c2|  _c3|     difference_x1_2|\n",
      "+---+-----+--------------------+\n",
      "| AR|14200|              -5.828|\n",
      "| TR|28725| -0.7519999999999998|\n",
      "| TR|28725| -0.5720000000000001|\n",
      "| AR|34565|  -4.915999999999999|\n",
      "| TR|63536|              -0.472|\n",
      "| EG|73739|               8.258|\n",
      "| TR|47493| -0.5699999999999998|\n",
      "| TR|33400|              -0.786|\n",
      "| RO|72549|             -10.154|\n",
      "| FR| 4444|  -4.139999999999999|\n",
      "| TR|30435| -0.8839999999999995|\n",
      "| PA|18149| -0.6859999999999999|\n",
      "| TR|66608| -1.9619999999999997|\n",
      "| AR|52671| -0.8199999999999994|\n",
      "| AR|27741| -1.6919999999999993|\n",
      "| TR|44528| -2.4559999999999995|\n",
      "| AR|52671| -0.8199999999999994|\n",
      "| EG|69064|-0.30400000000000005|\n",
      "| TR|44099|              -1.766|\n",
      "| TR|52339| -0.9980000000000002|\n",
      "+---+-----+--------------------+\n",
      "only showing top 20 rows\n",
      "\n"
     ]
    }
   ],
   "source": [
    "df.show()"
   ]
  },
  {
   "cell_type": "code",
   "execution_count": 16,
   "id": "26e5c7dd-eea2-4b7a-b25a-21628c96fad4",
   "metadata": {},
   "outputs": [],
   "source": [
    "########## EJERCICIO 6 #########"
   ]
  },
  {
   "cell_type": "code",
   "execution_count": 60,
   "id": "b5c50a70-2a7f-4773-b87d-7fb7967585a7",
   "metadata": {},
   "outputs": [],
   "source": [
    "csv_file_path = \"fake_orders_test.csv\"\n",
    "\n",
    "df = spark.read.csv(csv_file_path, header=False, inferSchema=True)\n",
    "df = df.withColumn(\"difference\", col(\"_c7\") - col(\"_c8\"))\n",
    "df = df.filter(col(\"difference\") < 0)\n",
    "\n",
    "pdf = df.toPandas()\n"
   ]
  },
  {
   "cell_type": "code",
   "execution_count": 61,
   "id": "3770564d-f724-4288-adb1-30b4ce73dcc5",
   "metadata": {},
   "outputs": [
    {
     "data": {
      "text/html": [
       "<div>\n",
       "<style scoped>\n",
       "    .dataframe tbody tr th:only-of-type {\n",
       "        vertical-align: middle;\n",
       "    }\n",
       "\n",
       "    .dataframe tbody tr th {\n",
       "        vertical-align: top;\n",
       "    }\n",
       "\n",
       "    .dataframe thead th {\n",
       "        text-align: right;\n",
       "    }\n",
       "</style>\n",
       "<table border=\"1\" class=\"dataframe\">\n",
       "  <thead>\n",
       "    <tr style=\"text-align: right;\">\n",
       "      <th></th>\n",
       "      <th>_c0</th>\n",
       "      <th>_c1</th>\n",
       "      <th>_c2</th>\n",
       "      <th>_c3</th>\n",
       "      <th>_c4</th>\n",
       "      <th>_c5</th>\n",
       "      <th>_c6</th>\n",
       "      <th>_c7</th>\n",
       "      <th>_c8</th>\n",
       "      <th>difference</th>\n",
       "    </tr>\n",
       "  </thead>\n",
       "  <tbody>\n",
       "    <tr>\n",
       "      <th>0</th>\n",
       "      <td>33557880</td>\n",
       "      <td>2019-03-10 23:59:59</td>\n",
       "      <td>AR</td>\n",
       "      <td>14200</td>\n",
       "      <td>DeliveredStatus</td>\n",
       "      <td>PAID</td>\n",
       "      <td>1</td>\n",
       "      <td>4.54</td>\n",
       "      <td>8.64</td>\n",
       "      <td>-4.10</td>\n",
       "    </tr>\n",
       "    <tr>\n",
       "      <th>1</th>\n",
       "      <td>33557765</td>\n",
       "      <td>2019-03-10 23:57:21</td>\n",
       "      <td>AR</td>\n",
       "      <td>34565</td>\n",
       "      <td>DeliveredStatus</td>\n",
       "      <td>PAID</td>\n",
       "      <td>2</td>\n",
       "      <td>2.86</td>\n",
       "      <td>6.48</td>\n",
       "      <td>-3.62</td>\n",
       "    </tr>\n",
       "    <tr>\n",
       "      <th>2</th>\n",
       "      <td>33512273</td>\n",
       "      <td>2019-03-10 23:57:13</td>\n",
       "      <td>TR</td>\n",
       "      <td>63536</td>\n",
       "      <td>DeliveredStatus</td>\n",
       "      <td>PAID</td>\n",
       "      <td>4</td>\n",
       "      <td>1.88</td>\n",
       "      <td>1.96</td>\n",
       "      <td>-0.08</td>\n",
       "    </tr>\n",
       "    <tr>\n",
       "      <th>3</th>\n",
       "      <td>33511759</td>\n",
       "      <td>2019-03-10 23:55:21</td>\n",
       "      <td>TR</td>\n",
       "      <td>47493</td>\n",
       "      <td>DeliveredStatus</td>\n",
       "      <td>PAID</td>\n",
       "      <td>2</td>\n",
       "      <td>2.37</td>\n",
       "      <td>2.45</td>\n",
       "      <td>-0.08</td>\n",
       "    </tr>\n",
       "    <tr>\n",
       "      <th>4</th>\n",
       "      <td>33523444</td>\n",
       "      <td>2019-03-10 23:53:38</td>\n",
       "      <td>RO</td>\n",
       "      <td>72549</td>\n",
       "      <td>DeliveredStatus</td>\n",
       "      <td>PAID</td>\n",
       "      <td>2</td>\n",
       "      <td>2.05</td>\n",
       "      <td>10.17</td>\n",
       "      <td>-8.12</td>\n",
       "    </tr>\n",
       "    <tr>\n",
       "      <th>...</th>\n",
       "      <td>...</td>\n",
       "      <td>...</td>\n",
       "      <td>...</td>\n",
       "      <td>...</td>\n",
       "      <td>...</td>\n",
       "      <td>...</td>\n",
       "      <td>...</td>\n",
       "      <td>...</td>\n",
       "      <td>...</td>\n",
       "      <td>...</td>\n",
       "    </tr>\n",
       "    <tr>\n",
       "      <th>34776</th>\n",
       "      <td>31965637</td>\n",
       "      <td>2019-03-01 00:30:50</td>\n",
       "      <td>TR</td>\n",
       "      <td>44528</td>\n",
       "      <td>DeliveredStatus</td>\n",
       "      <td>PAID</td>\n",
       "      <td>1</td>\n",
       "      <td>3.44</td>\n",
       "      <td>6.89</td>\n",
       "      <td>-3.45</td>\n",
       "    </tr>\n",
       "    <tr>\n",
       "      <th>34777</th>\n",
       "      <td>32002620</td>\n",
       "      <td>2019-03-01 00:14:57</td>\n",
       "      <td>AR</td>\n",
       "      <td>62623</td>\n",
       "      <td>DeliveredStatus</td>\n",
       "      <td>PAID</td>\n",
       "      <td>2</td>\n",
       "      <td>1.79</td>\n",
       "      <td>5.36</td>\n",
       "      <td>-3.57</td>\n",
       "    </tr>\n",
       "    <tr>\n",
       "      <th>34778</th>\n",
       "      <td>31960607</td>\n",
       "      <td>2019-03-01 00:04:31</td>\n",
       "      <td>TR</td>\n",
       "      <td>68820</td>\n",
       "      <td>DeliveredStatus</td>\n",
       "      <td>PAID</td>\n",
       "      <td>2</td>\n",
       "      <td>10.17</td>\n",
       "      <td>10.33</td>\n",
       "      <td>-0.16</td>\n",
       "    </tr>\n",
       "    <tr>\n",
       "      <th>34779</th>\n",
       "      <td>32002046</td>\n",
       "      <td>2019-03-01 00:03:06</td>\n",
       "      <td>AR</td>\n",
       "      <td>55159</td>\n",
       "      <td>DeliveredStatus</td>\n",
       "      <td>PAID</td>\n",
       "      <td>1</td>\n",
       "      <td>4.24</td>\n",
       "      <td>4.91</td>\n",
       "      <td>-0.67</td>\n",
       "    </tr>\n",
       "    <tr>\n",
       "      <th>34780</th>\n",
       "      <td>32001318</td>\n",
       "      <td>2019-03-01 00:01:00</td>\n",
       "      <td>AR</td>\n",
       "      <td>55159</td>\n",
       "      <td>DeliveredStatus</td>\n",
       "      <td>NOT_PAID</td>\n",
       "      <td>2</td>\n",
       "      <td>5.14</td>\n",
       "      <td>5.58</td>\n",
       "      <td>-0.44</td>\n",
       "    </tr>\n",
       "  </tbody>\n",
       "</table>\n",
       "<p>34781 rows × 10 columns</p>\n",
       "</div>"
      ],
      "text/plain": [
       "            _c0                 _c1 _c2    _c3              _c4       _c5  \\\n",
       "0      33557880 2019-03-10 23:59:59  AR  14200  DeliveredStatus      PAID   \n",
       "1      33557765 2019-03-10 23:57:21  AR  34565  DeliveredStatus      PAID   \n",
       "2      33512273 2019-03-10 23:57:13  TR  63536  DeliveredStatus      PAID   \n",
       "3      33511759 2019-03-10 23:55:21  TR  47493  DeliveredStatus      PAID   \n",
       "4      33523444 2019-03-10 23:53:38  RO  72549  DeliveredStatus      PAID   \n",
       "...         ...                 ...  ..    ...              ...       ...   \n",
       "34776  31965637 2019-03-01 00:30:50  TR  44528  DeliveredStatus      PAID   \n",
       "34777  32002620 2019-03-01 00:14:57  AR  62623  DeliveredStatus      PAID   \n",
       "34778  31960607 2019-03-01 00:04:31  TR  68820  DeliveredStatus      PAID   \n",
       "34779  32002046 2019-03-01 00:03:06  AR  55159  DeliveredStatus      PAID   \n",
       "34780  32001318 2019-03-01 00:01:00  AR  55159  DeliveredStatus  NOT_PAID   \n",
       "\n",
       "       _c6    _c7    _c8  difference  \n",
       "0        1   4.54   8.64       -4.10  \n",
       "1        2   2.86   6.48       -3.62  \n",
       "2        4   1.88   1.96       -0.08  \n",
       "3        2   2.37   2.45       -0.08  \n",
       "4        2   2.05  10.17       -8.12  \n",
       "...    ...    ...    ...         ...  \n",
       "34776    1   3.44   6.89       -3.45  \n",
       "34777    2   1.79   5.36       -3.57  \n",
       "34778    2  10.17  10.33       -0.16  \n",
       "34779    1   4.24   4.91       -0.67  \n",
       "34780    2   5.14   5.58       -0.44  \n",
       "\n",
       "[34781 rows x 10 columns]"
      ]
     },
     "execution_count": 61,
     "metadata": {},
     "output_type": "execute_result"
    }
   ],
   "source": [
    "pdf"
   ]
  },
  {
   "cell_type": "code",
   "execution_count": 62,
   "id": "a07cf8cc-084f-4998-b983-adaf6c515f75",
   "metadata": {},
   "outputs": [
    {
     "name": "stdout",
     "output_type": "stream",
     "text": [
      "['DeliveredStatus' 'CanceledStatus']\n"
     ]
    }
   ],
   "source": [
    "a = pdf._c4.unique()\n",
    "print(a)"
   ]
  },
  {
   "cell_type": "code",
   "execution_count": 63,
   "id": "a4da1aef-7993-45bf-8bca-5e96fdef05d7",
   "metadata": {},
   "outputs": [
    {
     "data": {
      "image/png": "[encoded data removed]",
      "text/plain": [
       "<Figure size 1000x600 with 1 Axes>"
      ]
     },
     "metadata": {},
     "output_type": "display_data"
    }
   ],
   "source": [
    "import matplotlib.pyplot as plt\n",
    "import seaborn as sns\n",
    "\n",
    "# Set up the matplotlib figure\n",
    "plt.figure(figsize=(10, 6))\n",
    "\n",
    "# Create a boxplot with seaborn\n",
    "sns.boxplot(x=\"_c4\", y=\"_c8\", data=pdf, whis=15.0, fliersize=2)\n",
    "\n",
    "# Add titles and labels\n",
    "plt.title(\"Boxplot of Purchase Status vs. _c8 Values\")\n",
    "plt.xlabel(\"Purchase Status\")\n",
    "plt.ylabel(\"_c8 Values\")\n",
    "\n",
    "# Show the plot\n",
    "plt.show()"
   ]
  },
  {
   "cell_type": "code",
   "execution_count": 84,
   "id": "eb585fd7-91d5-45ce-9320-63a65bb37e0f",
   "metadata": {},
   "outputs": [
    {
     "name": "stdout",
     "output_type": "stream",
     "text": [
      "t-statistic: -1.4470395763390118\n",
      "p-value: 0.14881049296461657\n"
     ]
    }
   ],
   "source": [
    "# Calculate pvalue\n",
    "import numpy as np\n",
    "\n",
    "filtered_values = pdf[pdf['_c4'] == 'DeliveredStatus']['_c7']\n",
    "group1 = filtered_values.to_numpy()\n",
    "\n",
    "filtered_values = pdf[pdf['_c4'] == 'CanceledStatus']['_c7']\n",
    "group2 = filtered_values.to_numpy()\n",
    "\n",
    "t_stat, p_value = ttest_ind(group1, group2, equal_var=False)\n",
    "\n",
    "print(f\"t-statistic: {t_stat}\")\n",
    "print(f\"p-value: {p_value}\")"
   ]
  },
  {
   "cell_type": "code",
   "execution_count": 89,
   "id": "6a20ba17-c28b-4566-ac7e-5e2812f758ed",
   "metadata": {},
   "outputs": [],
   "source": [
    "p_value = np.round(p_value, 3)"
   ]
  },
  {
   "cell_type": "code",
   "execution_count": 90,
   "id": "500b8bbb-5bd3-4fcf-96b9-5331ea90f3b3",
   "metadata": {},
   "outputs": [
    {
     "data": {
      "image/png": "[encoded data removed]",
      "text/plain": [
       "<Figure size 1000x600 with 1 Axes>"
      ]
     },
     "metadata": {},
     "output_type": "display_data"
    }
   ],
   "source": [
    "import matplotlib.pyplot as plt\n",
    "import seaborn as sns\n",
    "import pandas as pd\n",
    "from scipy.stats import ttest_ind\n",
    "\n",
    "# Set up the matplotlib figure\n",
    "plt.figure(figsize=(10, 6))\n",
    "\n",
    "# Create a boxplot with seaborn\n",
    "sns.boxplot(x=\"_c4\", y=\"_c8\", data=pdf, whis=15.0, fliersize=2)\n",
    "\n",
    "# Add titles and labels\n",
    "plt.title(\"Boxplot of Purchase Status vs. _c8 Values\")\n",
    "plt.xlabel(\"Purchase Status\")\n",
    "plt.ylabel(\"_c8 Values\")\n",
    "\n",
    "# Annotate the plot with the p-value\n",
    "plt.text(0.5, max(pdf['_c8']) * 0.95, f'p-value = {p_value:}', \n",
    "         ha='center', va='center', fontsize=12, color='red')\n",
    "\n",
    "# Show the plot\n",
    "plt.show()\n"
   ]
  },
  {
   "cell_type": "code",
   "execution_count": 91,
   "id": "398f669e-6be8-4c3c-bd01-f2d7993de4eb",
   "metadata": {},
   "outputs": [],
   "source": [
    "spark.stop()\n"
   ]
  }
 ],
 "metadata": {
  "kernelspec": {
   "display_name": "Python 3 (ipykernel)",
   "language": "python",
   "name": "python3"
  },
  "language_info": {
   "codemirror_mode": {
    "name": "ipython",
    "version": 3
   },
   "file_extension": ".py",
   "mimetype": "text/x-python",
   "name": "python",
   "nbconvert_exporter": "python",
   "pygments_lexer": "ipython3",
   "version": "3.10.12"
  }
 },
 "nbformat": 4,
 "nbformat_minor": 5
}
